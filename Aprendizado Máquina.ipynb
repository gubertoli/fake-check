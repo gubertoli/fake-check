{
 "cells": [
  {
   "cell_type": "code",
   "execution_count": 1,
   "id": "historic-garlic",
   "metadata": {},
   "outputs": [],
   "source": [
    "import pandas as pd\n",
    "import numpy as np"
   ]
  },
  {
   "cell_type": "code",
   "execution_count": 6,
   "id": "married-costs",
   "metadata": {},
   "outputs": [],
   "source": [
    "import glob, os\n",
    "\n",
    "fake_list = glob.glob(\"dataset/fake/*.txt\")\n",
    "true_list = glob.glob(\"dataset/true/*.txt\")\n"
   ]
  },
  {
   "cell_type": "code",
   "execution_count": 20,
   "id": "herbal-marine",
   "metadata": {},
   "outputs": [
    {
     "data": {
      "text/html": [
       "<div>\n",
       "<style scoped>\n",
       "    .dataframe tbody tr th:only-of-type {\n",
       "        vertical-align: middle;\n",
       "    }\n",
       "\n",
       "    .dataframe tbody tr th {\n",
       "        vertical-align: top;\n",
       "    }\n",
       "\n",
       "    .dataframe thead th {\n",
       "        text-align: right;\n",
       "    }\n",
       "</style>\n",
       "<table border=\"1\" class=\"dataframe\">\n",
       "  <thead>\n",
       "    <tr style=\"text-align: right;\">\n",
       "      <th></th>\n",
       "      <th>file_num</th>\n",
       "      <th>text</th>\n",
       "      <th>label</th>\n",
       "    </tr>\n",
       "  </thead>\n",
       "  <tbody>\n",
       "    <tr>\n",
       "      <th>0</th>\n",
       "      <td>1</td>\n",
       "      <td>Kátia Abreu diz que vai colocar sua expulsão e...</td>\n",
       "      <td>fake</td>\n",
       "    </tr>\n",
       "    <tr>\n",
       "      <th>1</th>\n",
       "      <td>10</td>\n",
       "      <td>Dr. Ray peita Bolsonaro, chama-o de conservad...</td>\n",
       "      <td>fake</td>\n",
       "    </tr>\n",
       "    <tr>\n",
       "      <th>2</th>\n",
       "      <td>100</td>\n",
       "      <td>Reinaldo Azevedo desmascarado pela Polícia Fed...</td>\n",
       "      <td>fake</td>\n",
       "    </tr>\n",
       "    <tr>\n",
       "      <th>3</th>\n",
       "      <td>1000</td>\n",
       "      <td>Relatório assustador do BNDES mostra dinheiro ...</td>\n",
       "      <td>fake</td>\n",
       "    </tr>\n",
       "    <tr>\n",
       "      <th>4</th>\n",
       "      <td>1001</td>\n",
       "      <td>Radialista americano fala sobre o PT: \"Eles ve...</td>\n",
       "      <td>fake</td>\n",
       "    </tr>\n",
       "  </tbody>\n",
       "</table>\n",
       "</div>"
      ],
      "text/plain": [
       "  file_num                                               text label\n",
       "0        1  Kátia Abreu diz que vai colocar sua expulsão e...  fake\n",
       "1       10  Dr. Ray peita Bolsonaro, chama-o de conservad...  fake\n",
       "2      100  Reinaldo Azevedo desmascarado pela Polícia Fed...  fake\n",
       "3     1000  Relatório assustador do BNDES mostra dinheiro ...  fake\n",
       "4     1001  Radialista americano fala sobre o PT: \"Eles ve...  fake"
      ]
     },
     "execution_count": 20,
     "metadata": {},
     "output_type": "execute_result"
    }
   ],
   "source": [
    "df = pd.DataFrame(columns=['file_num','text','label'])\n",
    "\n",
    "# adding all labeled news\n",
    "i = 1\n",
    "for file_list in [fake_list, true_list]:\n",
    "    for file in file_list:\n",
    "        fileName = os.path.basename(os.path.splitext(file)[0]) # splitext get name without extension on position 0 and basename just the filename\n",
    "\n",
    "        with open(file, 'r', encoding=\"utf8\") as file_open:\n",
    "            data = file_open.read().replace('\\n', '')\n",
    "\n",
    "        if i == 1:\n",
    "            label = \"fake\"\n",
    "        else:\n",
    "            label = \"true\"\n",
    "            \n",
    "        df = df.append({\n",
    "         \"file_num\": fileName,\n",
    "         \"text\":  data,\n",
    "         \"label\": label\n",
    "        }, ignore_index=True)\n",
    "        \n",
    "    i+=1\n",
    "\n",
    "df.head()"
   ]
  },
  {
   "cell_type": "code",
   "execution_count": 23,
   "id": "formal-dayton",
   "metadata": {},
   "outputs": [
    {
     "data": {
      "text/plain": [
       "true    3600\n",
       "fake    3600\n",
       "Name: label, dtype: int64"
      ]
     },
     "execution_count": 23,
     "metadata": {},
     "output_type": "execute_result"
    }
   ],
   "source": [
    "df['label'].value_counts()"
   ]
  },
  {
   "cell_type": "code",
   "execution_count": null,
   "id": "usual-advancement",
   "metadata": {},
   "outputs": [],
   "source": []
  }
 ],
 "metadata": {
  "kernelspec": {
   "display_name": "Python 3",
   "language": "python",
   "name": "python3"
  },
  "language_info": {
   "codemirror_mode": {
    "name": "ipython",
    "version": 3
   },
   "file_extension": ".py",
   "mimetype": "text/x-python",
   "name": "python",
   "nbconvert_exporter": "python",
   "pygments_lexer": "ipython3",
   "version": "3.8.5"
  }
 },
 "nbformat": 4,
 "nbformat_minor": 5
}
